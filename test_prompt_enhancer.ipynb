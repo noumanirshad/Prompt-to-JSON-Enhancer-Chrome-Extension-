{
  "cells": [
    {
      "cell_type": "markdown",
      "metadata": {},
      "source": [
        "# Prompt-to-JSON Enhancer - Backend Testing\n",
        "\n",
        "This notebook tests the core functionality of the Prompt-to-JSON Enhancer Chrome Extension backend.\n",
        "\n",
        "## Overview\n",
        "The enhancer transforms plain text prompts into structured JSON format to improve AI response quality and consistency.\n",
        "\n",
        "## Test Structure\n",
        "1. Import and initialize the enhancer\n",
        "2. Test with various prompt types\n",
        "3. Analyze results and performance\n",
        "4. Export enhanced prompts\n"
      ]
    },
    {
      "cell_type": "code",
      "execution_count": 5,
      "metadata": {},
      "outputs": [
        {
          "ename": "ModuleNotFoundError",
          "evalue": "No module named 'pandas'",
          "output_type": "error",
          "traceback": [
            "\u001b[31m---------------------------------------------------------------------------\u001b[39m",
            "\u001b[31mModuleNotFoundError\u001b[39m                       Traceback (most recent call last)",
            "\u001b[36mCell\u001b[39m\u001b[36m \u001b[39m\u001b[32mIn[5]\u001b[39m\u001b[32m, line 6\u001b[39m\n\u001b[32m      4\u001b[39m \u001b[38;5;28;01mimport\u001b[39;00m\u001b[38;5;250m \u001b[39m\u001b[34;01mjson\u001b[39;00m\n\u001b[32m      5\u001b[39m \u001b[38;5;28;01mfrom\u001b[39;00m\u001b[38;5;250m \u001b[39m\u001b[34;01mdatetime\u001b[39;00m\u001b[38;5;250m \u001b[39m\u001b[38;5;28;01mimport\u001b[39;00m datetime\n\u001b[32m----> \u001b[39m\u001b[32m6\u001b[39m \u001b[38;5;28;01mimport\u001b[39;00m\u001b[38;5;250m \u001b[39m\u001b[34;01mpandas\u001b[39;00m\u001b[38;5;250m \u001b[39m\u001b[38;5;28;01mas\u001b[39;00m\u001b[38;5;250m \u001b[39m\u001b[34;01mpd\u001b[39;00m\n\u001b[32m      8\u001b[39m \u001b[38;5;66;03m# Add the current directory to Python path to import our module\u001b[39;00m\n\u001b[32m      9\u001b[39m sys.path.append(\u001b[33m'\u001b[39m\u001b[33m.\u001b[39m\u001b[33m'\u001b[39m)\n",
            "\u001b[31mModuleNotFoundError\u001b[39m: No module named 'pandas'"
          ]
        }
      ],
      "source": [
        "# Import required libraries\n",
        "import sys\n",
        "import os\n",
        "import json\n",
        "from datetime import datetime\n",
        "import pandas as pd\n",
        "\n",
        "# Add the current directory to Python path to import our module\n",
        "sys.path.append('.')\n",
        "\n",
        "# Import our custom module\n",
        "from prompt_to_json_enhancer import PromptToJSONEnhancer\n",
        "\n",
        "print(\"✅ All imports successful!\")\n",
        "print(f\"📅 Test started at: {datetime.now().strftime('%Y-%m-%d %H:%M:%S')}\")\n"
      ]
    },
    {
      "cell_type": "markdown",
      "metadata": {},
      "source": [
        "## 1. Initialize the Enhancer\n",
        "\n",
        "Create an instance of the PromptToJSONEnhancer class and verify its configuration.\n"
      ]
    },
    {
      "cell_type": "code",
      "execution_count": null,
      "metadata": {},
      "outputs": [],
      "source": [
        "# Initialize the enhancer\n",
        "enhancer = PromptToJSONEnhancer(log_file=\"logs/test_session.log\")\n",
        "\n",
        "print(\"🚀 Prompt-to-JSON Enhancer initialized successfully!\")\n",
        "print(f\"📁 Log file: {enhancer.log_file}\")\n",
        "print(f\"📋 Available output formats: {len(enhancer.output_formats)}\")\n",
        "print(f\"🏷️  Context categories: {list(enhancer.context_keywords.keys())}\")\n"
      ]
    },
    {
      "cell_type": "markdown",
      "metadata": {},
      "source": [
        "## 2. Test Prompt Analysis\n",
        "\n",
        "Test the individual analysis functions with sample prompts.\n"
      ]
    },
    {
      "cell_type": "code",
      "execution_count": null,
      "metadata": {},
      "outputs": [],
      "source": [
        "# Test prompt cleaning\n",
        "test_prompt = \"  Please can you explain how blockchain technology works?  \"\n",
        "cleaned = enhancer.clean_prompt(test_prompt)\n",
        "\n",
        "print(f\"Original: '{test_prompt}'\")\n",
        "print(f\"Cleaned:  '{cleaned}'\")\n",
        "\n",
        "# Test context detection\n",
        "context = enhancer.detect_context(cleaned)\n",
        "print(f\"Detected context: {context}\")\n",
        "\n",
        "# Test problem extraction\n",
        "problem = enhancer.extract_problem(cleaned)\n",
        "print(f\"Extracted problem: {problem}\")\n",
        "\n",
        "# Test solution approach\n",
        "solution = enhancer.determine_solution_approach(cleaned, context)\n",
        "print(f\"Solution approach: {solution}\")\n",
        "\n",
        "# Test output format suggestion\n",
        "output_format = enhancer.suggest_output_format(cleaned, context)\n",
        "print(f\"Suggested format: {output_format}\")\n"
      ]
    },
    {
      "cell_type": "markdown",
      "metadata": {},
      "source": [
        "## 3. Comprehensive Prompt Testing\n",
        "\n",
        "Test the enhancer with various types of prompts to verify it handles different scenarios correctly.\n"
      ]
    },
    {
      "cell_type": "code",
      "execution_count": null,
      "metadata": {},
      "outputs": [],
      "source": [
        "# Define test prompts covering different categories\n",
        "test_prompts = {\n",
        "    \"Technical\": [\n",
        "        \"Explain blockchain technology\",\n",
        "        \"How do I write a Python function for data analysis?\",\n",
        "        \"What are the best practices for React development?\"\n",
        "    ],\n",
        "    \"Educational\": [\n",
        "        \"Teach me about machine learning\",\n",
        "        \"Explain photosynthesis step by step\",\n",
        "        \"How does the stock market work?\"\n",
        "    ],\n",
        "    \"Creative\": [\n",
        "        \"Write a creative story about a robot\",\n",
        "        \"Create a poem about nature\",\n",
        "        \"Imagine a futuristic city\"\n",
        "    ],\n",
        "    \"Analytical\": [\n",
        "        \"Compare React and Vue.js\",\n",
        "        \"Analyze the pros and cons of remote work\",\n",
        "        \"Evaluate different marketing strategies\"\n",
        "    ],\n",
        "    \"Business\": [\n",
        "        \"Create a marketing strategy for a startup\",\n",
        "        \"How to improve customer retention?\",\n",
        "        \"What are effective leadership techniques?\"\n",
        "    ],\n",
        "    \"General\": [\n",
        "        \"What is artificial intelligence?\",\n",
        "        \"Tell me about climate change\",\n",
        "        \"How to be more productive?\"\n",
        "    ]\n",
        "}\n",
        "\n",
        "print(f\"📝 Total test prompts: {sum(len(prompts) for prompts in test_prompts.values())}\")\n",
        "print(f\"📂 Categories: {list(test_prompts.keys())}\")\n"
      ]
    },
    {
      "cell_type": "code",
      "execution_count": null,
      "metadata": {},
      "outputs": [],
      "source": [
        "# Test all prompts and collect results\n",
        "results = []\n",
        "enhanced_prompts = []\n",
        "\n",
        "for category, prompts in test_prompts.items():\n",
        "    print(f\"\\n🔍 Testing {category} prompts...\")\n",
        "    \n",
        "    for i, prompt in enumerate(prompts, 1):\n",
        "        try:\n",
        "            # Enhance the prompt\n",
        "            enhanced = enhancer.enhance_prompt(prompt)\n",
        "            \n",
        "            # Store results\n",
        "            results.append({\n",
        "                'category': category,\n",
        "                'prompt_number': i,\n",
        "                'original_prompt': prompt,\n",
        "                'detected_context': enhanced['enhanced_prompt']['context'],\n",
        "                'output_format': enhanced['enhanced_prompt']['output_format'],\n",
        "                'problem': enhanced['enhanced_prompt']['problem'],\n",
        "                'timestamp': enhanced['metadata']['timestamp']\n",
        "            })\n",
        "            \n",
        "            enhanced_prompts.append(enhanced)\n",
        "            \n",
        "            print(f\"  ✅ {i}. '{prompt[:40]}...' -> Context: {enhanced['enhanced_prompt']['context']}\")\n",
        "            \n",
        "        except Exception as e:\n",
        "            print(f\"  ❌ {i}. Error processing '{prompt}': {str(e)}\")\n",
        "\n",
        "print(f\"\\n🎯 Processing complete! Successfully enhanced {len(results)} prompts.\")\n"
      ]
    },
    {
      "cell_type": "markdown",
      "metadata": {},
      "source": [
        "## 4. Results Analysis\n",
        "\n",
        "Analyze the results to verify the enhancer's performance and accuracy.\n"
      ]
    },
    {
      "cell_type": "code",
      "execution_count": null,
      "metadata": {},
      "outputs": [],
      "source": [
        "# Create DataFrame for analysis\n",
        "df = pd.DataFrame(results)\n",
        "\n",
        "print(\"📊 Results Summary:\")\n",
        "print(\"=\" * 50)\n",
        "\n",
        "# Context detection accuracy\n",
        "print(\"\\n🎯 Context Detection Accuracy:\")\n",
        "context_accuracy = df.groupby('category')['detected_context'].value_counts()\n",
        "print(context_accuracy)\n",
        "\n",
        "# Output format distribution\n",
        "print(\"\\n📋 Output Format Distribution:\")\n",
        "format_dist = df['output_format'].value_counts()\n",
        "print(format_dist)\n",
        "\n",
        "# Display sample results\n",
        "print(\"\\n📝 Sample Enhanced Prompts:\")\n",
        "for i, enhanced in enumerate(enhanced_prompts[:3]):\n",
        "    print(f\"\\n{i+1}. Original: {enhanced['original_prompt']}\")\n",
        "    print(f\"   Enhanced JSON:\")\n",
        "    print(json.dumps(enhanced['enhanced_prompt'], indent=2))\n"
      ]
    },
    {
      "cell_type": "markdown",
      "metadata": {},
      "source": [
        "## 5. Chrome Extension Integration Notes\n",
        "\n",
        "### Key Integration Points:\n",
        "1. **JavaScript Port**: Convert Python logic to JavaScript for browser compatibility\n",
        "2. **API Endpoint**: Consider creating a web API for more complex processing\n",
        "3. **Local Storage**: Store user preferences and templates\n",
        "4. **Real-time Processing**: Ensure fast response times for user interaction\n",
        "\n",
        "### Next Steps:\n",
        "1. Create Chrome Extension manifest and basic structure\n",
        "2. Implement JavaScript version of the enhancer\n",
        "3. Build popup UI for user interaction\n",
        "4. Add content script for automatic prompt detection\n",
        "5. Implement clipboard integration for easy copying\n"
      ]
    }
  ],
  "metadata": {
    "kernelspec": {
      "display_name": "env",
      "language": "python",
      "name": "python3"
    },
    "language_info": {
      "codemirror_mode": {
        "name": "ipython",
        "version": 3
      },
      "file_extension": ".py",
      "mimetype": "text/x-python",
      "name": "python",
      "nbconvert_exporter": "python",
      "pygments_lexer": "ipython3",
      "version": "3.11.7"
    }
  },
  "nbformat": 4,
  "nbformat_minor": 2
}
